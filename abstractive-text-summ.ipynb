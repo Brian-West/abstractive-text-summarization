{
 "cells": [
  {
   "cell_type": "markdown",
   "metadata": {},
   "source": [
    "Abstractive Text Summarization\n",
    "===\n",
    "This notebook is an in-progress implementation of the [Abstractive Text Summarization using Sequence-to-sequence RNNs and\n",
    "Beyond](https://arxiv.org/abs/1602.06023) paper.\n",
    "\n",
    "Current Features\n",
    "---\n",
    "* model architecture supports LSTM & GRU (biLSTM-to-uniLSTM or biGRU-to-uniGRU)\n",
    "* implements batch data processing \n",
    "* implements attention mechanism ([Bahdanau et al.](https://arxiv.org/abs/1409.0473) & [Luong et al.(global dot)](https://arxiv.org/abs/1508.04025))\n",
    "* implements [scheduled sampling (teacher forcing)](https://arxiv.org/abs/1506.03099)\n",
    "* implements [tied embeddings](https://arxiv.org/pdf/1608.05859.pdf)\n",
    "* initializes encoder-decoder with pretrained vectors (glove.6B.200d)\n",
    "* implements custom training callbacks (tensorboard visualization for PyTorch, save best model & log checkpoint)\n",
    "* implements attention plots\n",
    "\n",
    "\n",
    "To-Do\n",
    "---\n",
    "* Implement additional linguistic features embeddings  \n",
    "* Implement generator-pointer switch and replace unknown words by selecting source token with the highest attention score.\n",
    "* Implement large vocabulary trick \n",
    "* Implement sentence level attention \n",
    "* Implement beam search during inference\n",
    "* implement rouge eevaluation"
   ]
  },
  {
   "cell_type": "markdown",
   "metadata": {},
   "source": [
    "Requirements\n",
    "---\n",
    "\n",
    "1. Create conda environment \n",
    "\n",
    "`conda env create -f environment.yml`  --gpu\n",
    "\n",
    "`conda env create -f environment-cpu.yml`  --cpu\n",
    "\n",
    "2. Install dependencies (PyTorch, Fastai, TorchText, Tensorboard etc) via:\n",
    "\n",
    "`pip install -r requirements.txt`\n",
    "\n",
    "3. Download `spacy` english module\n",
    "\n",
    "`python -m spacy download en`\n"
   ]
  },
  {
   "cell_type": "markdown",
   "metadata": {},
   "source": [
    "Dataset\n",
    "--\n",
    "\n",
    "The dataset used is a subset of the gigaword dataset and can be found [here](https://drive.google.com/file/d/0B6N7tANPyVeBNmlSX19Ld2xDU1E/view?usp=sharing).\n",
    "\n",
    "It contains 3,803,955 parallel source & target examples for training and 189,649 examples for validation.\n",
    "\n",
    "After downloading, we create article-title pairs, save in tabular datset format (.csv) and extract a sample subset (80,000 for training & 20,000 for validation). This data preparation can be found [here](/data-preparation.ipynb).\n",
    "\n",
    "An example article-title pair looks like this:\n",
    "\n",
    "`article: the algerian cabinet chaired by president abdelaziz bouteflika on sunday adopted the #### finance bill predicated on an oil price of ## dollars a barrel and a growth rate of #.# percent , it was announced here .`\n",
    "\n",
    "`title: algeria adopts #### finance bill with oil put at ## dollars a barrel`\n",
    "\n",
    "\n",
    "Training on the complete dataset (3M) would take a really long time. So in order to train and experiment faster we use our sample subset of 80,000 in this tutorial. "
   ]
  },
  {
   "cell_type": "markdown",
   "metadata": {},
   "source": [
    "## Setup"
   ]
  },
  {
   "cell_type": "code",
   "execution_count": 1,
   "metadata": {},
   "outputs": [],
   "source": [
    "%matplotlib inline\n",
    "%reload_ext autoreload\n",
    "%autoreload 2"
   ]
  },
  {
   "cell_type": "code",
   "execution_count": 2,
   "metadata": {},
   "outputs": [
    {
     "name": "stdout",
     "output_type": "stream",
     "text": [
      "USE_GPU=False\n"
     ]
    }
   ],
   "source": [
    "#declare the directory path to dataset  \n",
    "DATA_PATH = 'data/'\n",
    "SAMPLE_DATA_PATH = f'{DATA_PATH}sample_data/'\n",
    "PROCESSED_DATA_PATH = f'{DATA_PATH}processed_data/'\n",
    "\n",
    "#Enable GPU training \n",
    "import torch\n",
    "USE_GPU = torch.cuda.is_available()\n",
    "print('USE_GPU={}'.format(USE_GPU))\n",
    "if USE_GPU:\n",
    "    print('current_device={}'.format(torch.cuda.current_device()))"
   ]
  },
  {
   "cell_type": "markdown",
   "metadata": {
    "heading_collapsed": true
   },
   "source": [
    "## 1. Process dataset"
   ]
  },
  {
   "cell_type": "markdown",
   "metadata": {
    "hidden": true
   },
   "source": [
    "In order to train, we performed common processing steps on the dataset such as:\n",
    "\n",
    "* Loading dataset\n",
    "* Preprocessing dataset (tokenizing, appending begining-of-sentence and end-of-sentence tokens, truncating, etc)\n",
    "* Building a vocabulary\n",
    "* Creating dataset iterators\n",
    "* Batching, padding, and numericalizing. \n",
    "\n",
    "To process the dataset, we use the [torchtext](https://github.com/pytorch/text) library."
   ]
  },
  {
   "cell_type": "code",
   "execution_count": 3,
   "metadata": {
    "hidden": true
   },
   "outputs": [],
   "source": [
    "#import data, vocab from torchtext \n",
    "from torchtext import data, vocab"
   ]
  },
  {
   "cell_type": "markdown",
   "metadata": {
    "hidden": true
   },
   "source": [
    "### 1.1. Load & define preprocessing pipeline"
   ]
  },
  {
   "cell_type": "markdown",
   "metadata": {
    "hidden": true
   },
   "source": [
    "To pre-process our data, we declare a `Field` class, and pass additional pre-processing arguments ( ex. tokenize with the `spacy` tokenizer, `lower` and append an `end-of-sentence` token to every example )."
   ]
  },
  {
   "cell_type": "code",
   "execution_count": 4,
   "metadata": {},
   "outputs": [],
   "source": [
    "tokenizer = data.get_tokenizer('spacy')"
   ]
  },
  {
   "cell_type": "code",
   "execution_count": 4,
   "metadata": {
    "hidden": true,
    "scrolled": true
   },
   "outputs": [],
   "source": [
    "TEXT = data.Field(tokenize=tokenizer, lower=True, eos_token='_eos_')"
   ]
  },
  {
   "cell_type": "markdown",
   "metadata": {
    "hidden": true
   },
   "source": [
    "Next, we load our training & validation tabular dataset using `data.TabularDataset.splits` which applies the defined preprocessing pipeline and returns their respective `Dataset` objects"
   ]
  },
  {
   "cell_type": "code",
   "execution_count": 5,
   "metadata": {
    "hidden": true,
    "scrolled": true
   },
   "outputs": [
    {
     "name": "stdout",
     "output_type": "stream",
     "text": [
      "CPU times: user 98.2 ms, sys: 2.39 ms, total: 101 ms\n",
      "Wall time: 104 ms\n"
     ]
    }
   ],
   "source": [
    "%%time\n",
    "trn_data_fields = [(\"source\", TEXT),\n",
    "                   (\"target\", TEXT)]\n",
    "\n",
    "trn, vld = data.TabularDataset.splits(path=f'{SAMPLE_DATA_PATH}',\n",
    "                                     train='train_ds.csv', validation='valid_ds.csv',\n",
    "                                     format='csv', skip_header=True, fields=trn_data_fields)\n"
   ]
  },
  {
   "cell_type": "code",
   "execution_count": 341,
   "metadata": {
    "hidden": true,
    "scrolled": false
   },
   "outputs": [
    {
     "name": "stdout",
     "output_type": "stream",
     "text": [
      "['the', 'second', 'day', 'of', 'negotiations', 'on', 'power', '-', 'sharing', 'in', 'zimbabwe', 'ended', 'wednesday', 'without', 'a', 'deal', ',', 'but', 'president', 'robert', 'mugabe', 'said', 'participants', 'will', '``', 'hopefully', \"''\", 'reach', 'an', 'accord', 'thursday', '.'] ['no', 'deal', 'yet', 'but', 'mugabe', 'hopes', 'for', 'zimbabwe', 'deal', 'thursday']\n"
     ]
    }
   ],
   "source": [
    "# a sample of the preprocessed data\n",
    "print(trn[0].article, trn[0].title)"
   ]
  },
  {
   "cell_type": "markdown",
   "metadata": {
    "hidden": true
   },
   "source": [
    "### 1.2. Build vocabulary"
   ]
  },
  {
   "cell_type": "markdown",
   "metadata": {
    "hidden": true
   },
   "source": [
    "Building a vocabulary simply means mapping each unique token in the corpus to an integer value, and storing as a dictionary ex `{'the': 2, 'brown':3, 'fox':4}`. \n",
    "\n",
    "In addition to building a vocabulary, we also use torchtext to load an embedding matrix for each token using the `glove.6B.200d` pretrained vector.\n",
    "\n",
    "We pass to `TEXT.build_vocab` our training dataset object `trn` and also the name of the pretrained vector we would like to use `glove.6B.200d`"
   ]
  },
  {
   "cell_type": "code",
   "execution_count": 7,
   "metadata": {
    "hidden": true
   },
   "outputs": [
    {
     "name": "stdout",
     "output_type": "stream",
     "text": [
      "CPU times: user 1.08 s, sys: 4.08 s, total: 5.16 s\n",
      "Wall time: 5.84 s\n"
     ]
    }
   ],
   "source": [
    "%%time\n",
    "pretrained_vectors = 'glove.6B.200d' \n",
    "TEXT.build_vocab(trn, vectors=pretrained_vectors )"
   ]
  },
  {
   "cell_type": "code",
   "execution_count": 342,
   "metadata": {
    "hidden": true
   },
   "outputs": [
    {
     "data": {
      "text/plain": [
       "[('the', 92),\n",
       " ('#', 92),\n",
       " ('.', 86),\n",
       " ('in', 67),\n",
       " ('of', 56),\n",
       " (',', 56),\n",
       " ('a', 53),\n",
       " ('to', 45),\n",
       " ('on', 41),\n",
       " ('and', 39)]"
      ]
     },
     "execution_count": 342,
     "metadata": {},
     "output_type": "execute_result"
    }
   ],
   "source": [
    "#10 most frequent words in the vocab\n",
    "TEXT.vocab.freqs.most_common(10)"
   ]
  },
  {
   "cell_type": "markdown",
   "metadata": {
    "hidden": true
   },
   "source": [
    "### 1.3. Create dataset iterator, batch, pad, and numericalize. \n"
   ]
  },
  {
   "cell_type": "markdown",
   "metadata": {
    "hidden": true
   },
   "source": [
    "Next, create a training & validation iterator object, numericalize (turn text to tensors), batch examples of similar lengths together, randomly shuffle the data and pad tensors using `data.BucketIterator.splits`. "
   ]
  },
  {
   "cell_type": "code",
   "execution_count": null,
   "metadata": {},
   "outputs": [],
   "source": [
    "batch_size = 64"
   ]
  },
  {
   "cell_type": "code",
   "execution_count": 243,
   "metadata": {
    "hidden": true
   },
   "outputs": [],
   "source": [
    "train_iter, val_iter = data.BucketIterator.splits(\n",
    "                        (trn, vld), batch_sizes=(batch_size, int(batch_size*1.6)),\n",
    "                        device=(0 if USE_GPU else -1), \n",
    "                        sort_key=lambda x: len(x.source),\n",
    "                        shuffle=True, sort_within_batch=False, repeat=False)"
   ]
  },
  {
   "cell_type": "markdown",
   "metadata": {
    "hidden": true
   },
   "source": [
    "Next, we stick each article-title batch pair tensor into a tuple (article, title). To do this we create a custom helper class `BatchTuple`"
   ]
  },
  {
   "cell_type": "code",
   "execution_count": 244,
   "metadata": {
    "hidden": true
   },
   "outputs": [],
   "source": [
    "class BatchTuple():\n",
    "    def __init__(self, dataset, x_var, y_var):\n",
    "        self.dataset, self.x_var, self.y_var = dataset, x_var, y_var\n",
    "        \n",
    "    def __iter__(self):\n",
    "        for batch in self.dataset:\n",
    "            x = getattr(batch, self.x_var) \n",
    "            y = getattr(batch, self.y_var)                 \n",
    "            yield (x, y)\n",
    "            \n",
    "    def __len__(self):\n",
    "        return len(self.dataset)"
   ]
  },
  {
   "cell_type": "code",
   "execution_count": 245,
   "metadata": {
    "hidden": true
   },
   "outputs": [],
   "source": [
    "#returns tuple of article-title pair tensors\n",
    "train_iter_tuple = BatchTuple(train_iter, \"source\", \"target\")\n",
    "val_iter_tuple = BatchTuple(val_iter, \"source\", \"target\")"
   ]
  },
  {
   "cell_type": "code",
   "execution_count": 345,
   "metadata": {
    "hidden": true
   },
   "outputs": [
    {
     "data": {
      "text/plain": [
       "(tensor([[  55,    4,   96,  ...,    4,  218,    4],\n",
       "         [  42,  122,   37,  ...,  696,   15,   14],\n",
       "         [  15,  118,   47,  ...,   21,  339,   64],\n",
       "         ...,\n",
       "         [   1,    1,    1,  ...,    1,    1,    1],\n",
       "         [   1,    1,    1,  ...,    1,    1,    1],\n",
       "         [   1,    1,    1,  ...,    1,    1,    1]]),\n",
       " tensor([[  55,   14,   96,  ...,  323,  339,   14],\n",
       "         [  42,   19,   84,  ...,  223,  229,  748],\n",
       "         [  15,  231,   30,  ...,   21,  223,  228],\n",
       "         ...,\n",
       "         [   1,    1,    1,  ...,    1,    1,    1],\n",
       "         [   1,    1,    1,  ...,    1,    1,    1],\n",
       "         [   1,    1,    1,  ...,    1,    1,    1]]))"
      ]
     },
     "execution_count": 345,
     "metadata": {},
     "output_type": "execute_result"
    }
   ],
   "source": [
    "#an example of a batched and padded article-title tensor pair\n",
    "next(iter(train_iter_tuple))"
   ]
  },
  {
   "cell_type": "markdown",
   "metadata": {
    "hidden": true
   },
   "source": [
    "### 1.4. Create ModelData "
   ]
  },
  {
   "cell_type": "markdown",
   "metadata": {
    "hidden": true
   },
   "source": [
    "In order to use our batched dataset with the FastAI library, we create a `ModelData` object. \n",
    "\n",
    "`ModelData` simply sticks the training, validation (and test) dataset into a single object"
   ]
  },
  {
   "cell_type": "code",
   "execution_count": 247,
   "metadata": {
    "hidden": true
   },
   "outputs": [],
   "source": [
    "#import text module from fastai \n",
    "from fastai.text import *"
   ]
  },
  {
   "cell_type": "code",
   "execution_count": 248,
   "metadata": {
    "hidden": true
   },
   "outputs": [],
   "source": [
    "model_data = ModelData(DATA_PATH, trn_dl=train_iter_tuple, val_dl=val_iter_tuple)"
   ]
  },
  {
   "cell_type": "markdown",
   "metadata": {
    "hidden": true
   },
   "source": [
    "### 1.5. Processed dataset"
   ]
  },
  {
   "cell_type": "markdown",
   "metadata": {
    "hidden": true
   },
   "source": [
    "Finally, we are done with processing the dataset: pre-processing, numericalizing, batching and padding.\n",
    "\n",
    "Lets take a look at the final processed data "
   ]
  },
  {
   "cell_type": "code",
   "execution_count": 296,
   "metadata": {
    "hidden": true
   },
   "outputs": [
    {
     "data": {
      "text/plain": [
       "(1, 1, 890)"
      ]
     },
     "execution_count": 296,
     "metadata": {},
     "output_type": "execute_result"
    }
   ],
   "source": [
    "#number of batches in training & validation set and number of tokens in vocabulary\n",
    "len(model_data.trn_dl), len(model_data.val_dl), len(TEXT.vocab)"
   ]
  },
  {
   "cell_type": "code",
   "execution_count": 297,
   "metadata": {
    "hidden": true
   },
   "outputs": [
    {
     "data": {
      "text/plain": [
       "(torch.Size([45, 64]), torch.Size([18, 64]))"
      ]
     },
     "execution_count": 297,
     "metadata": {},
     "output_type": "execute_result"
    }
   ],
   "source": [
    "#shape of one batch in training set (sequence_length x batch_size)\n",
    "t, z = next(model_data.trn_dl.__iter__())\n",
    "t.size(), z.size()"
   ]
  },
  {
   "cell_type": "code",
   "execution_count": 298,
   "metadata": {
    "hidden": true
   },
   "outputs": [
    {
     "name": "stdout",
     "output_type": "stream",
     "text": [
      "article:\n",
      "bolivian president evo morales on wednesday declared the us ambassador to la paz `` persona non grata , '' accusing the envoy of encouraging the breakup of the country by promoting separatism . _eos_ <pad> <pad> <pad> <pad> <pad> <pad> <pad> <pad> <pad> <pad> <pad> \n",
      "\n",
      "corresponding tensor:\n",
      "[216  28 153 167  11  13 145   4  14  57  10 294 328  20 329 316 269   7  23 130   4  50   8 254   4 217   8\n",
      "   4  48  24 341 353   5   2   1   1   1   1   1   1   1   1   1   1   1] \n",
      "\n",
      "title:\n",
      "bolivia president orders us envoy expelled _eos_ <pad> <pad> <pad> <pad> <pad> <pad> <pad> <pad> <pad> <pad> <pad> \n",
      "\n",
      "corresponding tensor:\n",
      "[ 58  28 171  14  50 154   2   1   1   1   1   1   1   1   1   1   1   1] \n",
      "\n"
     ]
    }
   ],
   "source": [
    "#lets look at an example pair\n",
    "sample_source = t.transpose(1,0)[0].data.cpu().numpy()\n",
    "sample_target = z.transpose(1,0)[0].data.cpu().numpy()\n",
    "\n",
    "print(\"source:\\n%s \\n\\ncorresponding tensor:\\n%s \\n\" %(' '.join([TEXT.vocab.itos[o] for o in sample_article]), sample_source))\n",
    "print(\"target:\\n%s \\n\\ncorresponding tensor:\\n%s \\n\" %(' '.join([TEXT.vocab.itos[o] for o in sample_title]), sample_target))\n"
   ]
  },
  {
   "cell_type": "markdown",
   "metadata": {},
   "source": [
    "## 2. Model "
   ]
  },
  {
   "cell_type": "markdown",
   "metadata": {},
   "source": [
    "### 2.1. Define model architecture\n",
    "The sequence model, consists of:\n",
    "* single layer encoder-decoder RNNs (biGRU-to-uniGRU)\n",
    "* feed-forward attention network (bahdanau)\n",
    "* option for luong global dot attention\n",
    "* option for teacher forcing\n",
    "* option for tied embeddings\n",
    "* option for multi-layer model\n",
    "* option for regularization (dropout)"
   ]
  },
  {
   "cell_type": "code",
   "execution_count": 374,
   "metadata": {},
   "outputs": [],
   "source": [
    "import torch.nn.functional as F\n",
    "import torch.nn as nn"
   ]
  },
  {
   "cell_type": "code",
   "execution_count": null,
   "metadata": {},
   "outputs": [],
   "source": [
    "class Seq2SeqRNN(nn.Module):\n",
    "    \n",
    "    def __init__(self, rnn_type, input_size, embz_size, hidden_size, batch_size,output_size,max_tgt_len,\n",
    "                 attention_type, tied_weight_type, pre_trained_vector, pre_trained_vector_type, padding_idx,\n",
    "                 num_layers=1, encoder_drop=(0.0,0.0), decoder_drop=(0.0,0.0), \n",
    "                 bidirectional=True, bias=False, teacher_forcing=True):\n",
    "        \n",
    "        super().__init__()\n",
    "        \n",
    "        rnn_type, attention_type, tied_weight_type = rnn_type.upper(), attention_type.title(), tied_weight_type.lower()\n",
    "        \n",
    "        if rnn_type in ['LSTM', 'GRU']: self.rnn_type = rnn_type\n",
    "        else: raise ValueError(\"\"\"An invalid option for '--rnn_type' was supplied,\n",
    "                                    options are ['LSTM', 'GRU']\"\"\")\n",
    "            \n",
    "        if attention_type in ['Luong', 'Bahdanau']: self.attention_type = attention_type\n",
    "        else: raise ValueError(\"\"\"An invalid option for '--attention_type' was supplied,\n",
    "                                    options are ['Luong', 'Bahdanau']\"\"\")\n",
    "            \n",
    "        if tied_weight_type in ['three_way', 'two_way']: self.tied_weight_type = tied_weight_type\n",
    "        else: raise ValueError(\"\"\"An invalid option for '--tied_weight_type' was supplied,\n",
    "                                    options are ['three_way', 'two_way']\"\"\")\n",
    "    \n",
    "                    \n",
    "        #initialize model parameters            \n",
    "        self.output_size, self.embz_size, self.hidden_size = output_size, embz_size, hidden_size//2\n",
    "        self.num_layers, self.input_size, self.max_tgt_len, self.pre_trained_vector = num_layers, input_size, max_tgt_len, pre_trained_vector\n",
    "        self.bidirectional,self.teacher_forcing, self.pre_trained_vector_type = bidirectional, teacher_forcing, pre_trained_vector_type\n",
    "        self.encoder_drop, self.decoder_drop, self.padding_idx = encoder_drop, decoder_drop, padding_idx\n",
    "        \n",
    "        \n",
    "        if self.teacher_forcing: self.force_prob = 1.0\n",
    "        \n",
    "        #set bidirectional\n",
    "        if self.bidirectional: self.num_directions = 2\n",
    "        else: self.num_directions = 1\n",
    "            \n",
    "        \n",
    "        #encoder\n",
    "        self.encoder_dropout = nn.Dropout(self.encoder_drop[0])\n",
    "        self.encoder_embedding_layer = nn.Embedding(self.input_size, self.embz_size, padding_idx=self.padding_idx)\n",
    "        if self.pre_trained_vector: self.encoder_embedding_layer.weight.data.copy_(self.pre_trained_vector.weight.data)\n",
    "            \n",
    "        self.encoder_rnn = getattr(nn, self.rnn_type)(\n",
    "                           input_size=self.embz_size,\n",
    "                           hidden_size=self.hidden_size,\n",
    "                           num_layers=self.num_layers,\n",
    "                           dropout=self.encoder_drop[1], \n",
    "                           bidirectional=self.bidirectional)\n",
    "        self.encoder_vector_layer = nn.Linear(self.hidden_size*self.num_directions,self.embz_size, bias=bias)\n",
    "        \n",
    "       #decoder\n",
    "        self.decoder_dropout = nn.Dropout(self.decoder_drop[0])\n",
    "        self.decoder_embedding_layer = nn.Embedding(self.input_size, self.embz_size, padding_idx=self.padding_idx)\n",
    "        self.decoder_rnn = getattr(nn, self.rnn_type)(\n",
    "                           input_size=self.embz_size,\n",
    "                           hidden_size=self.hidden_size*self.num_directions,\n",
    "                           num_layers=self.num_layers,\n",
    "                           dropout=self.decoder_drop[1]) \n",
    "        self.decoder_output_layer = nn.Linear(self.hidden_size*self.num_directions, self.embz_size, bias=bias)\n",
    "        self.output_layer = nn.Linear(self.embz_size, self.output_size, bias=bias)\n",
    "        \n",
    "        #set tied weights: three way tied weights vs two way tied weights\n",
    "        if self.tied_weight_type == 'three_way':\n",
    "            self.decoder_embedding_layer.weight  = self.encoder_embedding_layer.weight\n",
    "            self.output_layer.weight = self.decoder_embedding_layer.weight  \n",
    "        else:\n",
    "            if self.pre_trained_vector: self.decoder_embedding_layer.weight.data.copy_(self.pre_trained_vector.weight.data)\n",
    "            self.output_layer.weight = self.decoder_embedding_layer.weight  \n",
    "            \n",
    "        #set attention\n",
    "        self.encoder_output_layer = nn.Linear(self.hidden_size*self.num_directions, self.embz_size, bias=bias)\n",
    "        self.att_vector_layer = nn.Linear(self.embz_size+self.embz_size, self.embz_size,bias=bias)\n",
    "        if self.attention_type == 'Bahdanau':\n",
    "            self.decoder_hidden_layer = nn.Linear(self.hidden_size*self.num_directions, self.embz_size, bias=bias)\n",
    "            self.att_score = nn.Linear(self.embz_size,1,bias=bias)\n",
    "\n",
    "            \n",
    "    \n",
    "    def init_hidden(self, batch_size):\n",
    "        if self.rnn_type == 'LSTM':\n",
    "            return (V(torch.zeros(self.num_layers*self.num_directions, batch_size, self.hidden_size)),\n",
    "                    V(torch.zeros(self.num_layers*self.num_directions, batch_size, self.hidden_size)))\n",
    "        else:\n",
    "            return V(torch.zeros(self.num_layers*self.num_directions, batch_size, self.hidden_size))\n",
    "   \n",
    "\n",
    "    def _cat_directions(self, hidden):\n",
    "        def _cat(h):\n",
    "            return torch.cat([h[0:h.size(0):2], h[1:h.size(0):2]], 2)\n",
    "            \n",
    "        if isinstance(hidden, tuple):\n",
    "            # LSTM hidden contains a tuple (hidden state, cell state)\n",
    "            hidden = tuple([_cat(h) for h in hidden])\n",
    "        else:\n",
    "            # GRU hidden\n",
    "            hidden = _cat(hidden)\n",
    "        return hidden    \n",
    "    \n",
    "    \n",
    "    def bahdanau_attention(self, encoder_output, decoder_hidden, decoder_input):\n",
    "        encoder_output = self.encoder_output_layer(encoder_output) \n",
    "        encoder_output = encoder_output.transpose(0,1)\n",
    "        decoder_hidden = decoder_hidden.transpose(0,1)\n",
    "        att_score = F.tanh(encoder_output + decoder_hidden)\n",
    "        att_score = self.att_score(att_score)\n",
    "        att_weight = F.softmax(att_score, dim=1)\n",
    "        context_vector = torch.bmm(att_weight.transpose(-1, 1), encoder_output).squeeze(1)\n",
    "        att_vector = torch.cat((context_vector, decoder_input), dim=1)\n",
    "        att_vector = self.att_vector_layer(att_vector)\n",
    "        return att_weight.squeeze(-1), att_vector\n",
    "    \n",
    "    \n",
    "    def luong_attention(self, encoder_output, decoder_output):\n",
    "        encoder_output = self.encoder_output_layer(encoder_output) \n",
    "        encoder_output = encoder_output.transpose(0,1)\n",
    "        decoder_output = decoder_output.transpose(0,1)\n",
    "        att_score = torch.bmm(encoder_output, decoder_output.transpose(-1,1))\n",
    "        att_weight = F.softmax(att_score, dim=1)\n",
    "        context_vector = torch.bmm(att_weight.transpose(-1, 1), encoder_output).squeeze(1)\n",
    "        att_vector = torch.cat((context_vector, decoder_output.squeeze(1)), dim=1)\n",
    "        att_vector = self.att_vector_layer(att_vector)\n",
    "        att_vector = F.tanh(att_vector)\n",
    "        return att_weight.squeeze(-1), att_vector\n",
    "        \n",
    "    def decoder_forward(self, batch_size, encoder_output, decoder_hidden, y=None):\n",
    "        decoder_input = V(torch.zeros(batch_size).long())  \n",
    "        output_seq_stack, att_stack = [], []\n",
    "        \n",
    "        for i in range(self.max_tgt_len):\n",
    "            decoder_input = self.decoder_dropout(self.decoder_embedding_layer(decoder_input))\n",
    "            if self.attention_type == 'Bahdanau':\n",
    "                if isinstance(decoder_hidden, tuple):\n",
    "                    prev_hidden = self.decoder_hidden_layer(decoder_hidden[0][-1]).unsqueeze(0)\n",
    "                else:\n",
    "                    prev_hidden = self.decoder_hidden_layer(decoder_hidden[-1]).unsqueeze(0) \n",
    "                att, decoder_input = self.bahdanau_attention(encoder_output, prev_hidden, decoder_input)\n",
    "                decoder_output, decoder_hidden = self.decoder_rnn(decoder_input.unsqueeze(0), decoder_hidden)\n",
    "                decoder_output = self.decoder_output_layer(decoder_output.squeeze(0)) \n",
    "            else:\n",
    "                decoder_output, decoder_hidden = self.decoder_rnn(decoder_input.unsqueeze(0), decoder_hidden)\n",
    "                decoder_output = self.decoder_output_layer(decoder_output) \n",
    "                att, decoder_output = self.luong_attention(encoder_output, decoder_output)\n",
    "            att_stack.append(att)\n",
    "            output = self.output_layer(decoder_output)\n",
    "            output_seq_stack.append(output)\n",
    "            decoder_input = V(output.data.max(1)[1])\n",
    "            if (decoder_input==1).all(): break \n",
    "            if self.teacher_forcing:    \n",
    "                samp_prob = round(random.random(),1)\n",
    "                if (y is not None) and (samp_prob < self.force_prob):\n",
    "                    if i >= len(y): break\n",
    "                    decoder_input = y[i] \n",
    "                \n",
    "        return torch.stack(output_seq_stack), torch.stack(att_stack)\n",
    "        \n",
    "                \n",
    "    def forward(self, seq, y=None):\n",
    "        batch_size = seq[0].size(0)\n",
    "        encoder_hidden = self.init_hidden(batch_size)\n",
    "        encoder_input = self.encoder_dropout(self.encoder_embedding_layer(seq))\n",
    "        encoder_output, encoder_hidden = self.encoder_rnn(encoder_input, encoder_hidden) \n",
    "        if self.bidirectional:\n",
    "            encoder_hidden = self._cat_directions(encoder_hidden)\n",
    "        output = self.decoder_forward(batch_size, encoder_output, encoder_hidden, y=y)\n",
    "        if isinstance(encoder_hidden, tuple):\n",
    "            encoder_vector = self.encoder_vector_layer(encoder_hidden[0][-1])\n",
    "        else:\n",
    "            encoder_vector = self.encoder_vector_layer(encoder_hidden[-1])\n",
    "        output = output + (encoder_vector,)  \n",
    "        return output\n",
    "    \n"
   ]
  },
  {
   "cell_type": "code",
   "execution_count": null,
   "metadata": {},
   "outputs": [],
   "source": [
    "#set maximum target summary size \n",
    "its = [next(model_data.trn_dl.__iter__())[1] for i in range(10)]\n",
    "max_tgt_len = int(np.percentile([its[o].size()[0] for o in range(len(its))], 99))\n",
    "max_tgt_len"
   ]
  },
  {
   "cell_type": "code",
   "execution_count": null,
   "metadata": {},
   "outputs": [],
   "source": [
    "rev=0\n",
    "rev += 1\n",
    "print(\"rev = %s\" %rev)"
   ]
  },
  {
   "cell_type": "code",
   "execution_count": null,
   "metadata": {},
   "outputs": [],
   "source": [
    "def save_pickle(path, filename, file):\n",
    "    \"\"\"Function to save file as pickle\"\"\"\n",
    "    with open(f'{path}/{filename}', 'wb') as f:\n",
    "        pickle.dump(file, f)\n",
    "\n",
    "        \n",
    "def norm_pre_trained_embeddings(vecs, itos, em_sz, padding_idx):\n",
    "        \"\"\"Function to load and normalize pretrained vectors\"\"\"\n",
    "    emb = nn.Embedding(len(itos), em_sz, padding_idx=padding_idx)\n",
    "    wgts = emb.weight.data\n",
    "    for i,w in enumerate(itos):\n",
    "        try: \n",
    "            wgts[i] = torch.from_numpy(vecs[w]-vec_mean)\n",
    "            wgts[i] = torch.from_numpy(vecs[w]/vec_std)\n",
    "        except: pass \n",
    "    emb.weight.requires_grad = False    \n",
    "    return emb\n",
    "\n",
    "\n",
    "def embedding_param(path, data_field, pre_trained_vector_type, rev, embz_size=128):\n",
    "    \"\"\"Returns embedding parameters\"\"\"\n",
    "    pre_trained=None\n",
    "    index_to_string = data_field.vocab.itos\n",
    "    string_to_index = data_field.vocab.stoi\n",
    "    vocab_path = os.path.join(path, \"vocab\")\n",
    "    os.makedirs(vocab_path, exist_ok=True)\n",
    "    save_pickle(vocab_path, 'itos_rev_{rev}.pk', index_to_string) \n",
    "    save_pickle(vocab_path, 'stoi_rev_{rev}.pk', string_to_index) \n",
    "    padding_idx = data_field.vocab.stoi['<pad>']\n",
    "    if pre_trained_vector_type:\n",
    "        vec_mean, vec_std = data_field.vocab.vectors.numpy().mean(), data_field.vocab.vectors.numpy().std()\n",
    "        print('pre_trained_vector_mean = %s, pre_trained_vector_std = %s'%(vec_mean, vec_std))\n",
    "        vector_weight_matrix = data_field.vocab.vectors\n",
    "        embz_size = vector_weight_matrix.size(1)\n",
    "        pre_trained = norm_pre_trained_embeddings(vector_weight_matrix, index_to_string, embz_size, padding_idx)\n",
    "        print('Normalizing.... \\npre_trained_vector_mean = %s, pre_trained_vector_std = %s' %(pre_trained.weight.data.numpy().mean(), pre_trained.weight.data.numpy().std()))\n",
    "    return pre_trained, embz_size, padding_idx\n"
   ]
  },
  {
   "cell_type": "code",
   "execution_count": null,
   "metadata": {},
   "outputs": [],
   "source": [
    "input_size = len(TEXT.vocab)\n",
    "hidden_size = 400\n",
    "output_size =  len(TEXT.vocab)\n",
    "rnn_type = 'gru'\n",
    "attention_type='bahdanau'\n",
    "tied_weight_type ='three_way'\n",
    "max_tgt_len = max_tgt_len\n",
    "pre_trained_vector,  embz_size, padding_idx = embedding_param(DATA_PATH, TEXT, pre_trained_vector_type, rev)\n",
    "model = Seq2SeqRNN(rnn_type, input_size, embz_size, hidden_size, batch_size, output_size, max_tgt_len,\n",
    "               attention_type, tied_weight_type, pre_trained_vector, pre_trained_vector_type, padding_idx)\n",
    "\n",
    "print('='*100)\n",
    "print('Model log:')\n",
    "print(model, '\\n')\n",
    "print('- attention_type = {} \\n'.format(model.attention_type))\n",
    "print('- weight_tie = {} \\n'.format(model.tied_weight_type))\n",
    "print('- teacher_forcing = {} \\n '.format(model.teacher_forcing)) \n",
    "print('- pre_trained_embedding = {} \\n'.format(model.pre_trained_vector_type)) \n",
    "print('='*100 + '\\n')"
   ]
  },
  {
   "cell_type": "markdown",
   "metadata": {},
   "source": [
    "### 2.2 Training"
   ]
  },
  {
   "cell_type": "code",
   "execution_count": null,
   "metadata": {},
   "outputs": [],
   "source": [
    "from fastai.nlp import *\n",
    "from fastai.model import Stepper"
   ]
  },
  {
   "cell_type": "code",
   "execution_count": 25,
   "metadata": {},
   "outputs": [],
   "source": [
    "class Seq2SeqStepper(Stepper):\n",
    "    def step(self, xs, y, epoch):\n",
    "        output = self.m(*xs, y)\n",
    "        xtra = []\n",
    "        if isinstance(output,tuple): output,*xtra = output\n",
    "        self.opt.zero_grad()\n",
    "        loss = raw_loss = self.crit(output, y)\n",
    "        if self.reg_fn: loss = self.reg_fn(output, xtra, raw_loss)\n",
    "        loss.backward()\n",
    "        if self.clip:   # Gradient clipping\n",
    "            nn.utils.clip_grad_norm(trainable_params_(self.m), self.clip)\n",
    "        self.opt.step()\n",
    "        return raw_loss.data\n",
    "    \n",
    "def seq2seq_loss(input, target):\n",
    "    sl,bs = target.size()\n",
    "    sl_in,bs_in,nc = input.size()\n",
    "    if sl>sl_in: input = F.pad(input, (0,0,0,0,0,sl-sl_in))\n",
    "    input = input[:sl]\n",
    "    return F.cross_entropy(input.view(-1,nc), target.view(-1))#, ignore_index=1)\n"
   ]
  },
  {
   "cell_type": "code",
   "execution_count": 26,
   "metadata": {},
   "outputs": [],
   "source": [
    "if USE_GPU:\n",
    "    model.cuda()\n",
    "opt_fn = partial(optim.Adam, betas=(0.8, 0.99))\n",
    "learn = RNN_Learner(model_data, SingleModel(model), opt_fn=opt_fn)\n",
    "learn.crit = seq2seq_loss\n"
   ]
  },
  {
   "cell_type": "code",
   "execution_count": 27,
   "metadata": {},
   "outputs": [
    {
     "data": {
      "application/vnd.jupyter.widget-view+json": {
       "model_id": "044a1ebec7c244b4b8d1129631ecbcc0",
       "version_major": 2,
       "version_minor": 0
      },
      "text/plain": [
       "HBox(children=(IntProgress(value=0, description='Epoch', max=1), HTML(value='')))"
      ]
     },
     "metadata": {},
     "output_type": "display_data"
    },
    {
     "name": "stdout",
     "output_type": "stream",
     "text": [
      " 58%|█████▊    | 1457/2500 [05:42<04:05,  4.25it/s, loss=27]  "
     ]
    }
   ],
   "source": [
    "learn.lr_find()"
   ]
  },
  {
   "cell_type": "code",
   "execution_count": 28,
   "metadata": {
    "scrolled": true
   },
   "outputs": [
    {
     "data": {
      "image/png": "[encoded data removed]",
      "text/plain": [
       "<Figure size 432x288 with 1 Axes>"
      ]
     },
     "metadata": {},
     "output_type": "display_data"
    }
   ],
   "source": [
    "learn.sched.plot()"
   ]
  },
  {
   "cell_type": "code",
   "execution_count": null,
   "metadata": {},
   "outputs": [],
   "source": [
    "#custom callbacks\n",
    "from tensorboardX import SummaryWriter\n",
    "from fastai.sgdr import Callback, DecayScheduler\n",
    "from fastai.learner import Learner\n",
    "\n",
    "class TensorboardLogger(Callback):\n",
    "    def __init__(self, path, log_name, metrics_names=[]):\n",
    "        super().__init__()\n",
    "        self.metrics_names = [\"validation_loss\"]\n",
    "        self.metrics_names += metrics_names\n",
    "        log_path = os.path.join(path, \"logs\")\n",
    "        self.log_dir = os.path.join(log_path, log_name)\n",
    "        if os.path.exists(self.log_dir): shutil.rmtree(self.log_dir)\n",
    "        os.makedirs(self.log_dir)\n",
    "        \n",
    "    def on_train_begin(self):\n",
    "        self.iteration = 0\n",
    "        self.epoch = 0\n",
    "        self.writer = SummaryWriter(log_dir=self.log_dir)\n",
    "    def on_batch_begin(self): pass\n",
    "    def on_phase_begin(self): pass\n",
    "    def on_epoch_end(self, metrics):\n",
    "        self.epoch += 1\n",
    "        for val, name in zip(metrics, self.metrics_names):\n",
    "            self.writer.add_scalar(name, val, self.iteration) \n",
    "                        \n",
    "    def on_phase_end(self): pass\n",
    "    def on_batch_end(self, loss):\n",
    "        self.iteration += 1\n",
    "        self.writer.add_scalar(\"training_loss\", loss, self.iteration)\n",
    "    def on_train_end(self):\n",
    "        self.writer.close()\n",
    "        \n",
    "        \n",
    "class BestModelCheckPoint(Callback):\n",
    "    def __init__(self, learner, path, model_name, lr):\n",
    "        super().__init__()\n",
    "        self.learner = learner\n",
    "        self.model_name = model_name\n",
    "        self.learning_rate = lr\n",
    "        self.model_log = {}\n",
    "        self.model_path = self.learner.models_path\n",
    "        os.makedirs(self.model_path, exist_ok=True)\n",
    "\n",
    "    def on_train_begin(self): \n",
    "        self.first_epoch = True\n",
    "        self.epoch = 0\n",
    "        self.best_loss = 0.\n",
    "\n",
    "    def on_batch_begin(self): pass\n",
    "    def on_phase_begin(self): pass\n",
    "    def on_epoch_end(self, metrics): \n",
    "        self.epoch += 1\n",
    "        self.val_loss = metrics[0]\n",
    "        if self.first_epoch:\n",
    "            self.best_loss = self.val_loss\n",
    "            self.first_epoch = False\n",
    "        elif self.val_loss < self.best_loss:\n",
    "            self.best_loss = self.val_loss\n",
    "            self.learner.save(self.model_name)\n",
    "            self.model_log['training_loss'] = [str(self.train_losses)]\n",
    "            self.model_log['validation_loss'] = [str(self.val_loss)]\n",
    "            self.model_log['epoch_num'] = [self.epoch]\n",
    "            self.model_log['learning_rate'] = [self.learning_rate]\n",
    "            self.model_log['model_info'] = [w for s in [str(self.learner.model)] for w in s.split('\\n')]\n",
    "            self.model_log['model_info'].append(\"(attention_type): %s\" %self.learner.model.attention_type)\n",
    "            self.model_log['model_info'].append(\"(weight_tie): %s\" %self.learner.model.tied_weight_type)\n",
    "            self.model_log['model_info'].append(\"(pre_trained_vector_type): %s\" %self.learner.model.pre_trained_vector_type)\n",
    "            self.model_log['model_info'].append(\"(teacher_forcing): %s\" %self.learner.model.teacher_forcing)\n",
    "            if self.learner.model.teacher_forcing: self.model_log['model_info'].append(\"(teacher_forcing_prob): %s\" %self.learner.model.force_prob)\n",
    "            with open(f'{self.model_path}/{self.model_name}_model_log.json', 'w') as d: json.dump(self.model_log, d)\n",
    "        else: pass        \n",
    "    def on_phase_end(self): pass\n",
    "    def on_batch_end(self, loss):\n",
    "        self.train_losses = loss\n",
    "    def on_train_end(self): pass\n",
    "        \n",
    "\n",
    "class TeacherForcingSched(Callback):\n",
    "    def __init__(self, learner, scheduler):\n",
    "        super().__init__()\n",
    "        self.learner = learner\n",
    "        self.scheduler = scheduler\n",
    "        \n",
    "    def on_train_begin(self): \n",
    "        self.learner.model.force_prob = round(self.scheduler.next_val(),1)\n",
    "        \n",
    "    def on_batch_begin(self): pass\n",
    "    def on_phase_begin(self): pass\n",
    "    def on_epoch_end(self, metrics): \n",
    "        self.learner.model.force_prob = round(self.scheduler.next_val(),1)\n",
    "        \n",
    "    def on_phase_end(self): pass\n",
    "    def on_batch_end(self, loss):pass\n",
    "    def on_train_end(self): pass\n"
   ]
  },
  {
   "cell_type": "code",
   "execution_count": 41,
   "metadata": {
    "scrolled": true
   },
   "outputs": [
    {
     "data": {
      "application/vnd.jupyter.widget-view+json": {
       "model_id": "345f475cd22c4f21a3292dbdecabed76",
       "version_major": 2,
       "version_minor": 0
      },
      "text/plain": [
       "HBox(children=(IntProgress(value=0, description='Epoch', max=12), HTML(value='')))"
      ]
     },
     "metadata": {},
     "output_type": "display_data"
    },
    {
     "name": "stdout",
     "output_type": "stream",
     "text": [
      "epoch      trn_loss   val_loss                                                           \n",
      "    0      2.355713   5.541737  \n",
      "    1      2.546948   5.145187                                                           \n",
      "    2      2.654558   4.7494                                                             \n",
      "    3      2.665962   4.443033                                                           \n",
      "    4      2.717336   4.327981                                                           \n",
      "    5      2.817562   4.035469                                                           \n",
      "    6      2.968624   4.194978                                                           \n",
      "    7      2.948696   4.159783                                                           \n",
      "    8      3.380821   4.035524                                                           \n",
      "    9      3.666284   4.078693                                                           \n",
      "    10     3.895586   4.208393                                                           \n",
      "    11     3.755986   4.244361                                                           \n"
     ]
    }
   ],
   "source": [
    "lr=1e-3\n",
    "model_name = f'{model.rnn_type}_{model.attention_type}_rev_{rev}'.lower()\n",
    "cycle_len=15\n",
    "best_model = BestModelCheckPoint(learn, model_data.path, model_name, lr)\n",
    "tb_logger = TensorboardLogger(model_data.path, model_name)\n",
    "sched = DecayScheduler(DecayType.LINEAR, cycle_len, 0.5, 0.0)\n",
    "teach_forcer = TeacherForcingSched(learn, sched)\n",
    "learn.fit(lr, 1, cycle_len=cycle_len, use_clr=(20,10), stepper=Seq2SeqStepper, \\\n",
    "          callbacks=[tb_logger, teach_forcer, best_model])"
   ]
  },
  {
   "cell_type": "code",
   "execution_count": null,
   "metadata": {},
   "outputs": [],
   "source": [
    "import matplotlib.ticker as ticker"
   ]
  },
  {
   "cell_type": "code",
   "execution_count": 44,
   "metadata": {
    "scrolled": true
   },
   "outputs": [],
   "source": [
    "# function for plotting the attention weights\n",
    "def plot_attention(attention, sentence, predicted_sentence):\n",
    "    fig = plt.figure(figsize=(10,10))\n",
    "    ax = fig.add_subplot(1, 1, 1)\n",
    "    ax.matshow(attention, cmap='viridis')\n",
    "    fontdict = {'fontsize': 14}\n",
    "    ax.set_xticklabels([''] + sentence, fontdict=fontdict, rotation=90)\n",
    "    ax.set_yticklabels([''] + predicted_sentence, fontdict=fontdict)\n",
    "    ax.xaxis.set_major_locator(ticker.MultipleLocator(1))\n",
    "    ax.yaxis.set_major_locator(ticker.MultipleLocator(1))\n",
    "    plt.show()\n",
    "    \n",
    "    \n",
    "def generate(x, y, m):\n",
    "    probs = m.model(V(x))\n",
    "    preds, attention, encoder_embedding = to_np(probs[0].max(2)[1]), to_np(probs[1].squeeze(1)), to_np(probs[2])\n",
    "    sentence = ' '.join([index_to_string[o] for o in x[:,0].data.cpu().numpy() if o != 1])\n",
    "    result = ' '.join([index_to_string[o] for o in preds[:,0] if o!=1])\n",
    "    orig = ' '.join([index_to_string[o] for o in y[:,0].data.cpu().numpy() if o != 1])\n",
    "    print('Input: {}'.format(sentence), '\\n')\n",
    "    print('Original summary: {}'.format(orig), '\\n')\n",
    "    print('Predicted summary: {}'.format(result))\n",
    "    attention_plot = attention[:len(result.split(' ')), :len(sentence.split(' '))]\n",
    "    plot_attention(attention_plot, sentence.split(' '), result.split(' '))\n",
    "    return preds, attention, encoder_embedding\n",
    "    "
   ]
  },
  {
   "cell_type": "code",
   "execution_count": 52,
   "metadata": {
    "scrolled": false
   },
   "outputs": [
    {
     "name": "stdout",
     "output_type": "stream",
     "text": [
      "Input: french share prices fell sharply in initial trading on monday . _eos_ \n",
      "\n",
      "Original summary: french shares fall sharply _eos_ \n",
      "\n",
      "Predicted summary: french shares fall sharply . #\n"
     ]
    },
    {
     "data": {
      "image/png": "[encoded data removed]",
      "text/plain": [
       "<Figure size 720x720 with 1 Axes>"
      ]
     },
     "metadata": {},
     "output_type": "display_data"
    }
   ],
   "source": [
    "x,y = next(iter(model_data.val_dl))\n",
    "for i in range(63):\n",
    "    print(i)\n",
    "    preds, attention, encoder_embedding = generate(x.transpose(1,0)[i].unsqueeze(1), y.transpose(1,0)[i].unsqueeze(1), learn)\n",
    "    "
   ]
  }
 ],
 "metadata": {
  "kernelspec": {
   "display_name": "Python 3",
   "language": "python",
   "name": "python3"
  },
  "language_info": {
   "codemirror_mode": {
    "name": "ipython",
    "version": 3
   },
   "file_extension": ".py",
   "mimetype": "text/x-python",
   "name": "python",
   "nbconvert_exporter": "python",
   "pygments_lexer": "ipython3",
   "version": "3.6.5"
  }
 },
 "nbformat": 4,
 "nbformat_minor": 2
}
